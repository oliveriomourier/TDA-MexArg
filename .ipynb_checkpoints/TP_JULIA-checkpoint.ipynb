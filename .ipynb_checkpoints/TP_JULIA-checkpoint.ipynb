{
 "cells": [
  {
   "cell_type": "code",
   "execution_count": null,
   "id": "deaefd39",
   "metadata": {},
   "outputs": [],
   "source": [
    "using Plots\n",
    "using StatsBase\n",
    "using DataFrames\n",
    "using CSV\n",
    "using Pkg\n",
    "using Clustering\n",
    "using Statistics\n",
    "using GLM"
   ]
  },
  {
   "cell_type": "markdown",
   "id": "440df1e8",
   "metadata": {},
   "source": [
    "# MATRICES Y VECTORES"
   ]
  },
  {
   "cell_type": "code",
   "execution_count": null,
   "id": "bab1f3b9",
   "metadata": {},
   "outputs": [],
   "source": [
    "matriz = [7 8 9;\n",
    "          6 5 4]"
   ]
  },
  {
   "cell_type": "code",
   "execution_count": null,
   "id": "6487c567",
   "metadata": {},
   "outputs": [],
   "source": [
    "vector = [1, 2, 3]"
   ]
  },
  {
   "cell_type": "code",
   "execution_count": null,
   "id": "eefa0f6d",
   "metadata": {},
   "outputs": [],
   "source": [
    "matriz * vector"
   ]
  },
  {
   "cell_type": "markdown",
   "id": "71e89cd4",
   "metadata": {},
   "source": [
    "Sintaxis muy facil y amigable"
   ]
  },
  {
   "cell_type": "markdown",
   "id": "e3f68ae1",
   "metadata": {},
   "source": [
    "# BASE DE DATOS: SPOTIFY SONGS"
   ]
  },
  {
   "cell_type": "code",
   "execution_count": null,
   "id": "23e3604f",
   "metadata": {},
   "outputs": [],
   "source": [
    "data = CSV.read(\"C:/Users/oscar/Documents/ITESO/Septimo Semestre UBA/Teoría de lenguaje/tp_julia/universal_top_spotify_songs.csv\", DataFrame)"
   ]
  },
  {
   "cell_type": "code",
   "execution_count": null,
   "id": "5ff02638",
   "metadata": {},
   "outputs": [],
   "source": [
    "# Visualización básica\n",
    "# Histograma de la popularidad\n",
    "histogram(data.popularity, bins=20, xlabel=\"Popularidad\",\n",
    "    ylabel=\"Frecuencia\", title=\"Histograma de Popularidad\")"
   ]
  },
  {
   "cell_type": "markdown",
   "id": "0c3f1eba",
   "metadata": {},
   "source": [
    "Como podemos ver en el histograma, la mayoría de canciones contenidas en este Top de Spotify songs tienen rangos altos de popularidad, por lo que podemos considerar esta categoría con un valor muy importante a tener en cuenta.\n",
    "\n",
    "Vamos a ver si existen ciertos patrones que nos permitan tener una popularidad más grande y como funcionan las demás características en relación a Popularidad."
   ]
  },
  {
   "cell_type": "code",
   "execution_count": null,
   "id": "56e462f7",
   "metadata": {},
   "outputs": [],
   "source": [
    "columnas_clave = [:daily_movement, :weekly_movement, :popularity, :is_explicit, :duration_ms, \n",
    "    :danceability, :energy, :loudness, :speechiness, :acousticness, :instrumentalness, :liveness, :valence,\n",
    "    :tempo, :time_signature]"
   ]
  },
  {
   "cell_type": "code",
   "execution_count": null,
   "id": "5179ff9a",
   "metadata": {},
   "outputs": [],
   "source": [
    "# Análisis de estadísticas descriptivas\n",
    "describe_cc = describe(data[:, columnas_clave])\n",
    "describe_cc"
   ]
  },
  {
   "cell_type": "markdown",
   "id": "c329244b",
   "metadata": {},
   "source": [
    "Podemos darnos una idea de los valores más interesantes para estar dentro del Ranking. Podemos identificar el promedio de estas variables, y compararlo con la mediana también puede ser clave, para tener valores más certeros."
   ]
  },
  {
   "cell_type": "code",
   "execution_count": null,
   "id": "640137d3",
   "metadata": {},
   "outputs": [],
   "source": [
    "# Columnas que deseas incluir en el histograma\n",
    "columnas_clave = [:daily_movement, :weekly_movement, :popularity, :is_explicit, :duration_ms,\n",
    "    :danceability, :energy, :loudness, :speechiness, :acousticness, :instrumentalness, :liveness, :valence,\n",
    "    :tempo, :time_signature]\n",
    "\n",
    "# Configurar el tamaño de la figura general\n",
    "plot_size = (1000, 800)  # Puedes ajustar estos valores según tus necesidades\n",
    "\n",
    "# Crear histogramas para las columnas seleccionadas con tamaño personalizado\n",
    "histogramas = [histogram(data[:, col], bins=20, xlabel=string(col), ylabel=\"Frecuencia\", legend=false, size=plot_size) for col in columnas_clave]\n",
    "\n",
    "# Calcular el número de filas y columnas necesarias\n",
    "num_filas = div(length(columnas_clave), 2)\n",
    "num_columnas = ceil(Int, length(columnas_clave) / num_filas)\n",
    "\n",
    "# Mostrar los histogramas en filas de dos\n",
    "plot(histogramas..., layout=(num_filas, num_columnas))"
   ]
  },
  {
   "cell_type": "code",
   "execution_count": null,
   "id": "66e81ba9",
   "metadata": {},
   "outputs": [],
   "source": [
    "# Descubrir patrones de popularidad\n",
    "# Correlación entre las diferentes variables y la popularidad\n",
    "correlation_matrix = cor(Matrix(data[:, [:popularity, :danceability, :energy, :loudness, \n",
    "                :duration_ms, :speechiness, :acousticness, :liveness]]))"
   ]
  },
  {
   "cell_type": "markdown",
   "id": "f3ef70fd",
   "metadata": {},
   "source": [
    "Realmente no tenemos valores tan altos en la correlación, hablando específicamente de la variable que más nos interesa, popularidad. Por lo que no podríamos concluir que alguno de estos parámetros afecten directamente.\n",
    "\n",
    "Por ejemplo, Energy y Loudness tienen una correlación positiva bastante grande, pero eso no nos dice nada respecto a la popularidad."
   ]
  },
  {
   "cell_type": "code",
   "execution_count": null,
   "id": "89e4b968",
   "metadata": {},
   "outputs": [],
   "source": [
    "# Análisis de movimientos diarios y semanales\n",
    "println(\"Análisis de Movimientos Diarios:\")\n",
    "describe(data.daily_movement)\n",
    "\n",
    "println(\"\\nAnálisis de Movimientos Semanales:\")\n",
    "describe(data.weekly_movement)\n"
   ]
  },
  {
   "cell_type": "code",
   "execution_count": null,
   "id": "7b8f0233",
   "metadata": {},
   "outputs": [],
   "source": [
    "# Calcular el promedio de valores positivos\n",
    "promedio_positivos = mean(data[data.daily_movement .> 0, :daily_movement], dims=1)\n",
    "\n",
    "# Calcular el promedio de valores negativos\n",
    "promedio_negativos = mean(data[data.daily_movement .< 0, :daily_movement], dims=1)\n",
    "\n",
    "# Mostrar los resultados\n",
    "println(\"Promedio de valores positivos: \", promedio_positivos[1])\n",
    "println(\"Promedio de valores negativos: \", promedio_negativos[1])"
   ]
  },
  {
   "cell_type": "code",
   "execution_count": null,
   "id": "b871d2b6",
   "metadata": {},
   "outputs": [],
   "source": [
    "#### Calcular el promedio de la popularidad por fecha usando combine\n",
    "mean_popularity_over_time = combine(groupby(data, :snapshot_date), :popularity => mean => :mean_popularity)\n",
    "\n",
    "# Mostrar el resultado\n",
    "println(mean_popularity_over_time)"
   ]
  },
  {
   "cell_type": "code",
   "execution_count": null,
   "id": "fe808af1",
   "metadata": {},
   "outputs": [],
   "source": [
    "# Gráfico de línea para mostrar el promedio de popularidad a lo largo del tiempo\n",
    "plot(mean_popularity_over_time.snapshot_date, mean_popularity_over_time.mean_popularity, xlabel=\"Fecha\", \n",
    "    ylabel=\"Popularidad Promedio\", title=\"Popularidad Promedio a lo largo del Tiempo\", label=\"Popularidad\", fmt=:png)"
   ]
  },
  {
   "cell_type": "code",
   "execution_count": null,
   "id": "d20d11b0",
   "metadata": {},
   "outputs": [],
   "source": [
    "function kmeans_clustering(data::DataFrame, features::Tuple{Symbol, Symbol}, num_clusters::Int)\n",
    "    # Extraemos las características de la data\n",
    "    caracteristicas = select(data, features...)\n",
    "\n",
    "    # Realizamos el agrupamiento utilizando K-means\n",
    "    resultados_kmeans = kmeans(Matrix(caracteristicas)', num_clusters)\n",
    "\n",
    "    # Obtenemos las etiquetas de cluster asignadas a cada punto de datos\n",
    "    etiquetas_clusters = resultados_kmeans.assignments\n",
    "\n",
    "    # Visualizamos los datos agrupados por colores\n",
    "    scatter(caracteristicas[!, features[1]], caracteristicas[!, features[2]], group=etiquetas_clusters,\n",
    "        xlabel=string(features[1]), ylabel=string(features[2]), \n",
    "        title=\"$(features[1]) - $(features[2])\")\n",
    "\n",
    "\n",
    "    # Muestra los centros de los clusters como círculos rojos\n",
    "    scatter!(resultados_kmeans.centers[1, :], resultados_kmeans.centers[2, :], color=:red, markersize=10, label=\"Centros de Clusters\")\n",
    "end"
   ]
  },
  {
   "cell_type": "code",
   "execution_count": null,
   "id": "c022e6e0",
   "metadata": {},
   "outputs": [],
   "source": [
    "#Popularity - Danceability\n",
    "#kmeans_clustering(data, (:popularity, :danceability), 2)"
   ]
  },
  {
   "cell_type": "code",
   "execution_count": null,
   "id": "7e68adb1",
   "metadata": {},
   "outputs": [],
   "source": [
    "#Popularity - Energy \n",
    "#kmeans_clustering(data, (:popularity, :energy), 2)"
   ]
  },
  {
   "cell_type": "code",
   "execution_count": null,
   "id": "41378418",
   "metadata": {},
   "outputs": [],
   "source": [
    "#Popularity - Duration_ms\n",
    "#kmeans_clustering(data, (:popularity, :duration_ms), 2)"
   ]
  },
  {
   "cell_type": "code",
   "execution_count": null,
   "id": "c7b1de58",
   "metadata": {},
   "outputs": [],
   "source": [
    "#Popularity - Loudness\n",
    "#kmeans_clustering(data, (:popularity, :loudness), 2)"
   ]
  },
  {
   "cell_type": "markdown",
   "id": "d4ca034a",
   "metadata": {},
   "source": [
    "## MUESTREO DE DATOS"
   ]
  },
  {
   "cell_type": "code",
   "execution_count": null,
   "id": "cc49ee15",
   "metadata": {},
   "outputs": [],
   "source": [
    "using StatsBase\n",
    "\n",
    "function kmeans_clustering(data::DataFrame, features::Tuple{Symbol, Symbol}, num_clusters::Int)\n",
    "    # Muestreo aleatorio de datos\n",
    "    indices_muestreo = sample(1:nrow(data), min(1000, nrow(data)), replace=false)\n",
    "    data_muestreada = data[indices_muestreo, :]\n",
    "\n",
    "    # Extraemos las características de la data\n",
    "    caracteristicas = select(data_muestreada, features...)\n",
    "\n",
    "    # Resto del código sigue igual\n",
    "    resultados_kmeans = kmeans(Matrix(caracteristicas)', num_clusters)\n",
    "    etiquetas_clusters = resultados_kmeans.assignments\n",
    "\n",
    "    scatter(caracteristicas[!, features[1]], caracteristicas[!, features[2]], group=etiquetas_clusters,\n",
    "        xlabel=string(features[1]), ylabel=string(features[2]), \n",
    "        title=\"$(features[1]) - $(features[2])\")\n",
    "\n",
    "    scatter!(resultados_kmeans.centers[1, :], resultados_kmeans.centers[2, :], color=:red, markersize=10, label=\"Centros de Clusters\")\n",
    "end\n",
    "\n"
   ]
  },
  {
   "cell_type": "code",
   "execution_count": null,
   "id": "77dd5c90",
   "metadata": {},
   "outputs": [],
   "source": [
    "kmeans_clustering(data, (:popularity, :danceability), 2)"
   ]
  },
  {
   "cell_type": "markdown",
   "id": "86e3c9a0",
   "metadata": {},
   "source": [
    "## GRÁFICO INTERACTIVO"
   ]
  },
  {
   "cell_type": "code",
   "execution_count": null,
   "id": "b75aabac",
   "metadata": {
    "scrolled": true
   },
   "outputs": [],
   "source": [
    "using PlotlyJS\n",
    "\n",
    "function kmeans_clustering_interactivo(data::DataFrame, features::Tuple{Symbol, Symbol}, num_clusters::Int)\n",
    "    # Muestreo aleatorio de datos\n",
    "    indices_muestreo = sample(1:nrow(data), min(1000, nrow(data)), replace=false)\n",
    "    data_muestreada = data[indices_muestreo, :]\n",
    "\n",
    "    # Extraemos las características de la data\n",
    "    caracteristicas = select(data_muestreada, features...)\n",
    "\n",
    "    # Resto del código sigue igual\n",
    "    resultados_kmeans = kmeans(Matrix(caracteristicas)', num_clusters)\n",
    "    etiquetas_clusters = resultados_kmeans.assignments\n",
    "\n",
    "    # Cambia a un gráfico interactivo con PlotlyJS\n",
    "    plotly()\n",
    "    scatter(caracteristicas[!, features[1]], caracteristicas[!, features[2]], group=etiquetas_clusters,\n",
    "        xlabel=string(features[1]), ylabel=string(features[2]), \n",
    "        title=\"$(features[1]) - $(features[2])\")\n",
    "\n",
    "    scatter!(resultados_kmeans.centers[1, :], resultados_kmeans.centers[2, :], color=:red, markersize=10, label=\"Centros de Clusters\")\n",
    "end\n"
   ]
  },
  {
   "cell_type": "code",
   "execution_count": null,
   "id": "919c6ed8",
   "metadata": {},
   "outputs": [],
   "source": [
    "kmeans_clustering_interactivo(data, (:popularity, :danceability), 2)"
   ]
  },
  {
   "cell_type": "markdown",
   "id": "aba2605f",
   "metadata": {},
   "source": [
    "## FILTRADO POR PAÍS\n",
    "\n",
    "### Argentina"
   ]
  },
  {
   "cell_type": "code",
   "execution_count": null,
   "id": "fe2afe4e",
   "metadata": {},
   "outputs": [],
   "source": [
    "# Filtrar por país ('AR' en este caso), excluyendo valores Missing\n",
    "data_ar = filter(row -> coalesce(get(row, :country, missing), \"\") == \"AR\", data)"
   ]
  },
  {
   "cell_type": "code",
   "execution_count": null,
   "id": "314cca22",
   "metadata": {},
   "outputs": [],
   "source": [
    "# Visualización básica\n",
    "# Histograma de la popularidad\n",
    "histogram(data_ar.popularity, bins=20, xlabel=\"Popularidad\",\n",
    "    ylabel=\"Frecuencia\", title=\"Histograma de Popularidad\")"
   ]
  },
  {
   "cell_type": "code",
   "execution_count": null,
   "id": "9bfbf52f",
   "metadata": {},
   "outputs": [],
   "source": [
    "# Descubrir patrones de popularidad\n",
    "# Correlación entre las diferentes variables y la popularidad\n",
    "correlation_matrix = cor(Matrix(data_ar[:, [:popularity, :danceability, :energy, :loudness, \n",
    "                :duration_ms, :speechiness, :acousticness, :liveness]]))"
   ]
  },
  {
   "cell_type": "code",
   "execution_count": null,
   "id": "8bfac341",
   "metadata": {},
   "outputs": [],
   "source": [
    "kmeans_clustering_interactivo(data_ar, (:popularity, :danceability), 1)"
   ]
  },
  {
   "cell_type": "markdown",
   "id": "12739831",
   "metadata": {},
   "source": [
    "### México"
   ]
  },
  {
   "cell_type": "code",
   "execution_count": null,
   "id": "16ba73f4",
   "metadata": {},
   "outputs": [],
   "source": [
    "# Filtrar por país ('MX' en este caso), excluyendo valores Missing\n",
    "data_mx = filter(row -> coalesce(get(row, :country, missing), \"\") == \"MX\", data)"
   ]
  },
  {
   "cell_type": "code",
   "execution_count": null,
   "id": "fa7244aa",
   "metadata": {},
   "outputs": [],
   "source": [
    "# Visualización básica\n",
    "# Histograma de la popularidad\n",
    "histogram(data_mx.popularity, bins=20, xlabel=\"Popularidad\",\n",
    "    ylabel=\"Frecuencia\", title=\"Histograma de Popularidad\")"
   ]
  },
  {
   "cell_type": "code",
   "execution_count": null,
   "id": "19f02b30",
   "metadata": {},
   "outputs": [],
   "source": [
    "# Descubrir patrones de popularidad\n",
    "# Correlación entre las diferentes variables y la popularidad\n",
    "correlation_matrix = cor(Matrix(data_mx[:, [:popularity, :danceability, :energy, :loudness, \n",
    "                :duration_ms, :speechiness, :acousticness, :liveness]]))"
   ]
  },
  {
   "cell_type": "code",
   "execution_count": null,
   "id": "027dd74f",
   "metadata": {},
   "outputs": [],
   "source": [
    "kmeans_clustering_interactivo(data_mx, (:popularity, :acousticness), 1)"
   ]
  },
  {
   "cell_type": "markdown",
   "id": "779693fb",
   "metadata": {},
   "source": [
    "# MACROS "
   ]
  },
  {
   "cell_type": "code",
   "execution_count": null,
   "id": "cd1b8e84",
   "metadata": {},
   "outputs": [],
   "source": [
    "macro sayhello(name)\n",
    "    return :(println(\"Hello, \", $name, \"!\"))\n",
    "end\n",
    "\n",
    "@sayhello \"Julia\"\n"
   ]
  },
  {
   "cell_type": "code",
   "execution_count": null,
   "id": "9b78749f",
   "metadata": {},
   "outputs": [],
   "source": [
    "@time begin\n",
    "    correlation_matrix = cor(Matrix(data_mx[:, [:popularity, :danceability, :energy, :loudness, \n",
    "                :duration_ms, :speechiness, :acousticness, :liveness]]))\n",
    "end"
   ]
  },
  {
   "cell_type": "code",
   "execution_count": null,
   "id": "3e5e376e",
   "metadata": {},
   "outputs": [],
   "source": [
    "@allocated begin\n",
    "    correlation_matrix = cor(Matrix(data_mx[:, [:popularity, :danceability, :energy, :loudness, \n",
    "                :duration_ms, :speechiness, :acousticness, :liveness]]))\n",
    "end"
   ]
  },
  {
   "cell_type": "markdown",
   "id": "78e0c7ea",
   "metadata": {},
   "source": [
    "# FUNCIONES ANÓNIMAS"
   ]
  },
  {
   "cell_type": "code",
   "execution_count": null,
   "id": "b9a49355",
   "metadata": {},
   "outputs": [],
   "source": [
    "# Sintaxis general de una función anónima\n",
    "f = x -> x^2"
   ]
  },
  {
   "cell_type": "code",
   "execution_count": null,
   "id": "c5a744ce",
   "metadata": {},
   "outputs": [],
   "source": [
    "# Uso de la función anónima\n",
    "resultado = f(3)  "
   ]
  },
  {
   "cell_type": "code",
   "execution_count": null,
   "id": "cd82ec49",
   "metadata": {},
   "outputs": [],
   "source": [
    "# También se pueden utilizar directamente en lugar de asignarlas a una variable\n",
    "resultado_2 = (x -> x^3)(2)  "
   ]
  },
  {
   "cell_type": "markdown",
   "id": "ac26f4b8",
   "metadata": {},
   "source": [
    "# MULTIPLE DISPATCH"
   ]
  },
  {
   "cell_type": "markdown",
   "id": "7e8f7a37",
   "metadata": {},
   "source": [
    "Capacidad de definir y llamar a funciones según los tipos de varios argumentos, en lugar de solo el tipo de un único argumento, como ocurre en la mayoría de los lenguajes de programación.\n",
    "\n",
    "Para entender el despacho múltiple en Julia, observemos el operador **+**\n",
    "\n",
    "Si llamamos *methods()* sobre **+**, podemos ver todas las definiciones de **+**"
   ]
  },
  {
   "cell_type": "code",
   "execution_count": null,
   "id": "bbc5c484",
   "metadata": {},
   "outputs": [],
   "source": [
    "methods(+)"
   ]
  },
  {
   "cell_type": "markdown",
   "id": "4e5a5204",
   "metadata": {},
   "source": [
    "Podemos usar el macro de *@which* para saber qué método en particular estamos usando de **+**\n",
    "\n",
    "Distintos métodos se usan en cada uno de estos ejemplos."
   ]
  },
  {
   "cell_type": "code",
   "execution_count": null,
   "id": "83956f9c",
   "metadata": {},
   "outputs": [],
   "source": [
    "@which 3 + 3"
   ]
  },
  {
   "cell_type": "code",
   "execution_count": null,
   "id": "a55784c8",
   "metadata": {},
   "outputs": [],
   "source": [
    "@which 3.0 + 3.0 "
   ]
  },
  {
   "cell_type": "code",
   "execution_count": null,
   "id": "2b936292",
   "metadata": {},
   "outputs": [],
   "source": [
    "@which 3 + 3.0"
   ]
  },
  {
   "cell_type": "markdown",
   "id": "42dafabf",
   "metadata": {},
   "source": [
    "Aún más, pues podemos definir nuevos métodos de +.\n",
    "\n",
    "Primero tenemos que importar + de Base."
   ]
  },
  {
   "cell_type": "code",
   "execution_count": null,
   "id": "42e59c41",
   "metadata": {},
   "outputs": [],
   "source": [
    "import Base: +"
   ]
  },
  {
   "cell_type": "markdown",
   "id": "27247207",
   "metadata": {},
   "source": [
    "Digamos que queremos concatenar elementos con +. Sin extender el método, no funciona"
   ]
  },
  {
   "cell_type": "code",
   "execution_count": null,
   "id": "8846e224",
   "metadata": {
    "scrolled": true
   },
   "outputs": [],
   "source": [
    "\"hello \" + \"world!\""
   ]
  },
  {
   "cell_type": "code",
   "execution_count": null,
   "id": "f00b4d48",
   "metadata": {
    "scrolled": true
   },
   "outputs": [],
   "source": [
    "@which \"hello \" + \"world!\""
   ]
  },
  {
   "cell_type": "markdown",
   "id": "be195bbf",
   "metadata": {},
   "source": [
    "Entonces agregamos a + un método que toma dos cadenas y las concatena     "
   ]
  },
  {
   "cell_type": "code",
   "execution_count": null,
   "id": "0ba84e5a",
   "metadata": {},
   "outputs": [],
   "source": [
    "+(x::String, y::String) = string(x, y)"
   ]
  },
  {
   "cell_type": "code",
   "execution_count": null,
   "id": "f517195b",
   "metadata": {},
   "outputs": [],
   "source": [
    "\"hello \" + \"world!\""
   ]
  },
  {
   "cell_type": "markdown",
   "id": "49a9a328",
   "metadata": {},
   "source": [
    "¡Funciona! Y si queremos más, podemos comprobarnos que Julia ha despachado sobre los tipos de \"hello\" y \"world!\", sobre el método que acabamos de definir"
   ]
  },
  {
   "cell_type": "code",
   "execution_count": null,
   "id": "5d5a0d92",
   "metadata": {
    "scrolled": true
   },
   "outputs": [],
   "source": [
    "@which \"hello \" + \"world!\""
   ]
  },
  {
   "cell_type": "markdown",
   "id": "e826bd8e",
   "metadata": {},
   "source": [
    "# REGRESIÓN LINEAL"
   ]
  },
  {
   "cell_type": "code",
   "execution_count": null,
   "id": "e0389746",
   "metadata": {},
   "outputs": [],
   "source": [
    "# Crear el modelo de regresión lineal\n",
    "regresion_ar = lm(@formula(danceability ~ popularity), data_ar)\n",
    "\n",
    "# Obtener resumen del modelo\n",
    "println(\"Resumen del modelo:\")\n",
    "println(summary(regresion_ar))"
   ]
  },
  {
   "cell_type": "code",
   "execution_count": null,
   "id": "41112adf",
   "metadata": {},
   "outputs": [],
   "source": [
    "# Graficar el resultado de la regresión\n",
    "scatter(data_ar.popularity, data_ar.danceability, label=\"Datos\")\n",
    "plot!(data_ar.popularity, predict(regresion_ar), label=\"Regresión Lineal\", \n",
    "    xlabel=\"Popularity\", ylabel=\"Danceability\", legend=:top)"
   ]
  },
  {
   "cell_type": "code",
   "execution_count": null,
   "id": "6990a8a1",
   "metadata": {},
   "outputs": [],
   "source": [
    "# Crear el modelo de regresión lineal\n",
    "regresion_mx = lm(@formula(acousticness ~ popularity), data_mx)\n",
    "\n",
    "# Obtener resumen del modelo\n",
    "println(\"Resumen del modelo:\")\n",
    "println(summary(regresion_mx))"
   ]
  },
  {
   "cell_type": "code",
   "execution_count": null,
   "id": "a0450709",
   "metadata": {},
   "outputs": [],
   "source": [
    "# Graficar el resultado de la regresión\n",
    "scatter(data_mx.popularity, data_mx.acousticness, label=\"Datos\")\n",
    "plot!(data_mx.popularity, predict(regresion_mx), label=\"Regresión Lineal\", \n",
    "    xlabel=\"Popularity\", ylabel=\"Acousticness\", legend=:top)"
   ]
  },
  {
   "cell_type": "markdown",
   "id": "72a3a07c",
   "metadata": {},
   "source": [
    "# DISTRIBUIDOS"
   ]
  },
  {
   "cell_type": "code",
   "execution_count": null,
   "id": "83c2e176",
   "metadata": {},
   "outputs": [],
   "source": [
    "# Paso 1: Iniciar el sistema distribuido\n",
    "using Distributed\n",
    "addprocs(4)  # Agregar 4 procesos (puedes ajustar según el número de núcleos en tu máquina)"
   ]
  },
  {
   "cell_type": "code",
   "execution_count": null,
   "id": "0caf1c7a",
   "metadata": {},
   "outputs": [],
   "source": [
    "# Paso 2: Cargar el paquete en todos los procesos\n",
    "@everywhere using Distributed"
   ]
  },
  {
   "cell_type": "code",
   "execution_count": null,
   "id": "1ef4570d",
   "metadata": {},
   "outputs": [],
   "source": [
    "# Paso 3: Función que imprime mensajes desde diferentes procesos\n",
    "@everywhere function imprimir_mensaje(id::Int)\n",
    "    println(\"Proceso $id: Hola desde el proceso $(myid())\")\n",
    "end"
   ]
  },
  {
   "cell_type": "code",
   "execution_count": null,
   "id": "ad27c3f8",
   "metadata": {},
   "outputs": [],
   "source": [
    "# Paso 4: Llamar a la función en paralelo\n",
    "@distributed for i in 1:nprocs()\n",
    "    imprimir_mensaje(i)\n",
    "end"
   ]
  },
  {
   "cell_type": "markdown",
   "id": "d5a18c82",
   "metadata": {},
   "source": [
    "Los mensajes se imprimen en un orden no determinista, ya que cada proceso puede ejecutarse de manera independiente y en paralelo. Esto demuestra la capacidad de distribuir tareas entre diferentes procesos en Julia."
   ]
  },
  {
   "cell_type": "markdown",
   "id": "7b5e4ec6",
   "metadata": {},
   "source": [
    "# MANEJO DE MEMORIA"
   ]
  },
  {
   "cell_type": "code",
   "execution_count": null,
   "id": "8e410555",
   "metadata": {},
   "outputs": [],
   "source": [
    "# Crear un vector de enteros\n",
    "vector_enteros = [1, 2, 3, 4, 5]"
   ]
  },
  {
   "cell_type": "code",
   "execution_count": null,
   "id": "a2be627f",
   "metadata": {},
   "outputs": [],
   "source": [
    "# Obtener el tamaño del vector en bytes\n",
    "tamaño_en_bytes = sizeof(vector_enteros)\n",
    "println(\"Tamaño del vector en bytes: $tamaño_en_bytes\")"
   ]
  },
  {
   "cell_type": "code",
   "execution_count": null,
   "id": "bd1bbcba",
   "metadata": {},
   "outputs": [],
   "source": [
    "# Modificar el vector\n",
    "push!(vector_enteros, 6)"
   ]
  },
  {
   "cell_type": "code",
   "execution_count": null,
   "id": "59852fcb",
   "metadata": {},
   "outputs": [],
   "source": [
    "# Obtener el nuevo tamaño del vector en bytes\n",
    "nuevo_tamaño_en_bytes = sizeof(vector_enteros)\n",
    "println(\"Nuevo tamaño del vector en bytes: $nuevo_tamaño_en_bytes\")"
   ]
  },
  {
   "cell_type": "markdown",
   "id": "318d267f",
   "metadata": {},
   "source": [
    "### Recolector de basura"
   ]
  },
  {
   "cell_type": "code",
   "execution_count": null,
   "id": "db9d32ff",
   "metadata": {},
   "outputs": [],
   "source": [
    "# Crear una función que genera basura (un vector temporal)\n",
    "function generar_basura()\n",
    "    basura = rand(1:100, 1000)\n",
    "    return sum(basura)\n",
    "end"
   ]
  },
  {
   "cell_type": "code",
   "execution_count": null,
   "id": "4a7b148e",
   "metadata": {},
   "outputs": [],
   "source": [
    "# Crear una función principal que utiliza la función que genera basura\n",
    "function funcion_principal()\n",
    "    resultado = generar_basura()\n",
    "    println(\"Resultado: $resultado\")\n",
    "end"
   ]
  },
  {
   "cell_type": "code",
   "execution_count": null,
   "id": "0e6ffcda",
   "metadata": {},
   "outputs": [],
   "source": [
    "# Obtener el uso de memoria antes de la ejecución\n",
    "memoria_inicial = Sys.free_memory()\n",
    "println(\"Uso de memoria antes de la ejecución: $memoria_inicial bytes\")"
   ]
  },
  {
   "cell_type": "code",
   "execution_count": null,
   "id": "b24b09e3",
   "metadata": {},
   "outputs": [],
   "source": [
    "# Llamar a la función principal\n",
    "funcion_principal()"
   ]
  },
  {
   "cell_type": "code",
   "execution_count": null,
   "id": "ac0c2e42",
   "metadata": {},
   "outputs": [],
   "source": [
    "# Obtener el uso de memoria después de la ejecución\n",
    "memoria_despues = Sys.free_memory()\n",
    "println(\"Uso de memoria después de la ejecución: $memoria_despues bytes\")"
   ]
  },
  {
   "cell_type": "code",
   "execution_count": null,
   "id": "b744d01a",
   "metadata": {},
   "outputs": [],
   "source": [
    "# Forzar la recolección de basura\n",
    "GC.gc()"
   ]
  },
  {
   "cell_type": "code",
   "execution_count": null,
   "id": "2ae1f627",
   "metadata": {},
   "outputs": [],
   "source": [
    "# Obtener el uso de memoria después de la recolección de basura\n",
    "memoria_despues_gc = Sys.free_memory()\n",
    "println(\"Uso de memoria después de la recolección de basura: $memoria_despues_gc bytes\")"
   ]
  },
  {
   "cell_type": "markdown",
   "id": "be37140c",
   "metadata": {},
   "source": [
    "### Limpiar objetos innecesarios"
   ]
  },
  {
   "cell_type": "code",
   "execution_count": 6,
   "id": "6e24a659",
   "metadata": {},
   "outputs": [
    {
     "data": {
      "text/plain": [
       "1000000-element Vector{Float64}:\n",
       " 0.8375721690097028\n",
       " 0.46586682287201553\n",
       " 0.27723269926706506\n",
       " 0.887868444819091\n",
       " 0.33040337890976224\n",
       " 0.4135670700559536\n",
       " 0.3774917549196677\n",
       " 0.9473475134449896\n",
       " 0.8217084269706704\n",
       " 0.8581373495749125\n",
       " 0.8860720934331439\n",
       " 0.9918897135048328\n",
       " 0.8910539092799242\n",
       " ⋮\n",
       " 0.36640964919993024\n",
       " 0.6496300368496941\n",
       " 0.44887862433354986\n",
       " 0.5050442620820892\n",
       " 0.3630949582475602\n",
       " 0.23962531652032226\n",
       " 0.8798992954716333\n",
       " 0.7707986825486851\n",
       " 0.9607320411730108\n",
       " 0.1985729701331076\n",
       " 0.6547176382010719\n",
       " 0.8788779990034901"
      ]
     },
     "execution_count": 6,
     "metadata": {},
     "output_type": "execute_result"
    }
   ],
   "source": [
    "x = rand(10^6)"
   ]
  },
  {
   "cell_type": "code",
   "execution_count": 7,
   "id": "bdc91273",
   "metadata": {},
   "outputs": [
    {
     "data": {
      "text/plain": [
       "1000000-element Vector{Float64}:\n",
       " 0.8375721690097028\n",
       " 0.46586682287201553\n",
       " 0.27723269926706506\n",
       " 0.887868444819091\n",
       " 0.33040337890976224\n",
       " 0.4135670700559536\n",
       " 0.3774917549196677\n",
       " 0.9473475134449896\n",
       " 0.8217084269706704\n",
       " 0.8581373495749125\n",
       " 0.8860720934331439\n",
       " 0.9918897135048328\n",
       " 0.8910539092799242\n",
       " ⋮\n",
       " 0.36640964919993024\n",
       " 0.6496300368496941\n",
       " 0.44887862433354986\n",
       " 0.5050442620820892\n",
       " 0.3630949582475602\n",
       " 0.23962531652032226\n",
       " 0.8798992954716333\n",
       " 0.7707986825486851\n",
       " 0.9607320411730108\n",
       " 0.1985729701331076\n",
       " 0.6547176382010719\n",
       " 0.8788779990034901"
      ]
     },
     "execution_count": 7,
     "metadata": {},
     "output_type": "execute_result"
    }
   ],
   "source": [
    "x"
   ]
  },
  {
   "cell_type": "code",
   "execution_count": 8,
   "id": "24cdf2c3",
   "metadata": {},
   "outputs": [],
   "source": [
    "# Al terminar de usar x\n",
    "x = nothing  # Liberar la memoria"
   ]
  },
  {
   "cell_type": "code",
   "execution_count": 9,
   "id": "5130e3ca",
   "metadata": {},
   "outputs": [],
   "source": [
    "x"
   ]
  },
  {
   "cell_type": "markdown",
   "id": "d14d6224",
   "metadata": {},
   "source": [
    "# PLUTO"
   ]
  },
  {
   "cell_type": "markdown",
   "id": "667d1e8e",
   "metadata": {},
   "source": [
    "Pluto.jl es un entorno interactivo para el lenguaje de programación Julia...\n",
    "\n",
    "- Permite la ejecución de código de manera interactiva.\n",
    "- Facilita la visualización de datos.\n",
    "- Es ideal para la exploración y prototipado rápido."
   ]
  },
  {
   "cell_type": "code",
   "execution_count": null,
   "id": "12cf8ec0",
   "metadata": {},
   "outputs": [],
   "source": [
    "#import Pkg\n",
    "#Pkg.add(\"Pluto\")"
   ]
  },
  {
   "cell_type": "code",
   "execution_count": 1,
   "id": "fb85cbe8",
   "metadata": {},
   "outputs": [
    {
     "name": "stderr",
     "output_type": "stream",
     "text": [
      "\u001b[36m\u001b[1m[ \u001b[22m\u001b[39m\u001b[36m\u001b[1mInfo: \u001b[22m\u001b[39mLoading...\n",
      "\u001b[36m\u001b[1m┌ \u001b[22m\u001b[39m\u001b[36m\u001b[1mInfo: \u001b[22m\u001b[39m\n",
      "\u001b[36m\u001b[1m└ \u001b[22m\u001b[39mOpening http://localhost:1234/?secret=5sYrTPMc in your default browser... ~ have fun!\n",
      "\u001b[36m\u001b[1m┌ \u001b[22m\u001b[39m\u001b[36m\u001b[1mInfo: \u001b[22m\u001b[39m\n",
      "\u001b[36m\u001b[1m│ \u001b[22m\u001b[39mPress Ctrl+C in this terminal to stop Pluto\n",
      "\u001b[36m\u001b[1m└ \u001b[22m\u001b[39m\n",
      "\u001b[32m\u001b[1m    Updating\u001b[22m\u001b[39m `C:\\Users\\oscar\\AppData\\Local\\Temp\\jl_UKyGKI\\Project.toml`\n",
      "  \u001b[90m[a93c6f00] \u001b[39m\u001b[91m- DataFrames v1.6.1\u001b[39m\n",
      "  \u001b[90m[c601a237] \u001b[39m\u001b[91m- Interact v0.10.5\u001b[39m\n",
      "\u001b[32m\u001b[1m    Updating\u001b[22m\u001b[39m `C:\\Users\\oscar\\AppData\\Local\\Temp\\jl_UKyGKI\\Manifest.toml`\n",
      "  \u001b[90m[bf4720bc] \u001b[39m\u001b[91m- AssetRegistry v0.1.0\u001b[39m\n",
      "  \u001b[90m[70588ee8] \u001b[39m\u001b[91m- CSSUtil v0.1.1\u001b[39m\n",
      "  \u001b[90m[a8cc5b0e] \u001b[39m\u001b[91m- Crayons v4.1.1\u001b[39m\n",
      "  \u001b[90m[a93c6f00] \u001b[39m\u001b[91m- DataFrames v1.6.1\u001b[39m\n",
      "  \u001b[90m[e2d170a0] \u001b[39m\u001b[91m- DataValueInterfaces v1.0.0\u001b[39m\n",
      "  \u001b[90m[de31a74c] \u001b[39m\u001b[91m- FunctionalCollections v0.5.0\u001b[39m\n",
      "  \u001b[90m[842dd82b] \u001b[39m\u001b[91m- InlineStrings v1.4.0\u001b[39m\n",
      "  \u001b[90m[c601a237] \u001b[39m\u001b[91m- Interact v0.10.5\u001b[39m\n",
      "  \u001b[90m[d3863d7c] \u001b[39m\u001b[91m- InteractBase v0.10.10\u001b[39m\n",
      "  \u001b[90m[41ab1584] \u001b[39m\u001b[91m- InvertedIndices v1.3.0\u001b[39m\n",
      "  \u001b[90m[82899510] \u001b[39m\u001b[91m- IteratorInterfaceExtensions v1.0.0\u001b[39m\n",
      "  \u001b[90m[97c1335a] \u001b[39m\u001b[91m- JSExpr v0.5.4\u001b[39m\n",
      "  \u001b[90m[bcebb21b] \u001b[39m\u001b[91m- Knockout v0.2.6\u001b[39m\n",
      "  \u001b[90m[510215fc] \u001b[39m\u001b[91m- Observables v0.5.5\u001b[39m\n",
      "  \u001b[90m[fa939f87] \u001b[39m\u001b[91m- Pidfile v1.3.0\u001b[39m\n",
      "  \u001b[90m[2dfb63ee] \u001b[39m\u001b[91m- PooledArrays v1.4.3\u001b[39m\n",
      "  \u001b[90m[08abe8d2] \u001b[39m\u001b[91m- PrettyTables v2.3.1\u001b[39m\n",
      "  \u001b[90m[91c51154] \u001b[39m\u001b[91m- SentinelArrays v1.4.1\u001b[39m\n",
      "  \u001b[90m[892a3eda] \u001b[39m\u001b[91m- StringManipulation v0.3.4\u001b[39m\n",
      "  \u001b[90m[3783bdb8] \u001b[39m\u001b[91m- TableTraits v1.0.1\u001b[39m\n",
      "  \u001b[90m[bd369af6] \u001b[39m\u001b[91m- Tables v1.11.1\u001b[39m\n",
      "  \u001b[90m[0f1e0344] \u001b[39m\u001b[91m- WebIO v0.8.21\u001b[39m\n",
      "  \u001b[90m[104b5d7c] \u001b[39m\u001b[91m- WebSockets v1.6.0\u001b[39m\n",
      "  \u001b[90m[cc8bc4a8] \u001b[39m\u001b[91m- Widgets v0.6.6\u001b[39m\n",
      "  \u001b[90m[8ba89e20] \u001b[39m\u001b[91m- Distributed\u001b[39m\n",
      "  \u001b[90m[9fa8497b] \u001b[39m\u001b[91m- Future\u001b[39m\n",
      "\u001b[36m\u001b[1m[ \u001b[22m\u001b[39m\u001b[36m\u001b[1mInfo: \u001b[22m\u001b[39mSending interrupt to process Malt.Worker(0x23e0, Process(setenv(`'C:\\Users\\oscar\\AppData\\Local\\Programs\\Julia-1.9.3\\bin\\julia.exe' --startup-file=no --startup-file=no --history-file=no --threads=4 'C:\\Users\\oscar\\.julia\\packages\\Malt\\Z3YQq\\src\\worker.jl'`,[\"WINDIR=C:\\\\WINDOWS\", \"PATH=C:\\\\Users\\\\oscar\\\\anaconda3;C:\\\\Users\\\\oscar\\\\anaconda3\\\\Library\\\\mingw-w64\\\\bin;C:\\\\Users\\\\oscar\\\\anaconda3\\\\Library\\\\usr\\\\bin;C:\\\\Users\\\\oscar\\\\anaconda3\\\\Library\\\\bin;C:\\\\Users\\\\oscar\\\\anaconda3\\\\Scripts;C:\\\\Program Files (x86)\\\\Common Files\\\\Oracle\\\\Java\\\\javapath;C:\\\\Windows\\\\system32;C:\\\\Windows;C:\\\\Windows\\\\System32\\\\Wbem;C:\\\\Windows\\\\System32\\\\WindowsPowerShell\\\\v1.0\\\\;C:\\\\Windows\\\\System32\\\\OpenSSH\\\\;C:\\\\Program Files\\\\NVIDIA Corporation\\\\NVIDIA NvDLISR;C:\\\\WINDOWS\\\\system32;C:\\\\WINDOWS;C:\\\\WINDOWS\\\\System32\\\\Wbem;C:\\\\WINDOWS\\\\System32\\\\WindowsPowerShell\\\\v1.0\\\\;C:\\\\WINDOWS\\\\System32\\\\OpenSSH\\\\;C:\\\\Program Files\\\\Git\\\\cmd;C:\\\\Program Files\\\\MATLAB\\\\R2021b\\\\bin;;C:\\\\Program Files\\\\Docker\\\\Docker\\\\resources\\\\bin;C:\\\\Users\\\\oscar\\\\AppData\\\\Local\\\\Programs\\\\Python\\\\Python311\\\\Scripts\\\\;C:\\\\Users\\\\oscar\\\\AppData\\\\Local\\\\Programs\\\\Python\\\\Python311\\\\;C:\\\\Users\\\\oscar\\\\AppData\\\\Local\\\\Microsoft\\\\WindowsApps;C:\\\\Users\\\\oscar\\\\AppData\\\\Roaming\\\\TinyTeX\\\\bin\\\\win32;C:\\\\Users\\\\oscar\\\\AppData\\\\Local\\\\Programs\\\\Microsoft VS Code\\\\bin;C:\\\\Users\\\\oscar\\\\anaconda3;C:\\\\Users\\\\oscar\\\\anaconda3\\\\Scripts;\", \"USERDOMAIN_ROAMINGPROFILE=DESKTOP-8F299D8\", \"ZES_ENABLE_SYSMAN=1\", \"JPY_INTERRUPT_EVENT=1668\", \"LOCALAPPDATA=C:\\\\Users\\\\oscar\\\\AppData\\\\Local\", \"HOMEPATH=\\\\Users\\\\oscar\", \"PROCESSOR_IDENTIFIER=Intel64 Family 6 Model 126 Stepping 5, GenuineIntel\", \"NUMBER_OF_PROCESSORS=8\", \"PATHEXT=.COM;.EXE;.BAT;.CMD;.VBS;.VBE;.JS;.JSE;.WSF;.WSH;.MSC\", \"SESSIONNAME=Console\", \"SYSTEMROOT=C:\\\\WINDOWS\", \"APPDATA=C:\\\\Users\\\\oscar\\\\AppData\\\\Roaming\", \"PSMODULEPATH=C:\\\\Program Files\\\\WindowsPowerShell\\\\Modules;C:\\\\WINDOWS\\\\system32\\\\WindowsPowerShell\\\\v1.0\\\\Modules\", \"COMMONPROGRAMW6432=C:\\\\Program Files\\\\Common Files\", \"PROGRAMDATA=C:\\\\ProgramData\", \"PUBLIC=C:\\\\Users\\\\Public\", \"USERDOMAIN=DESKTOP-8F299D8\", \"OS=Windows_NT\", \"PROCESSOR_REVISION=7e05\", \"TMP=C:\\\\Users\\\\oscar\\\\AppData\\\\Local\\\\Temp\", \"COMMONPROGRAMFILES(X86)=C:\\\\Program Files (x86)\\\\Common Files\", \"COMSPEC=C:\\\\WINDOWS\\\\system32\\\\cmd.exe\", \"OPENBLAS_DEFAULT_NUM_THREADS=1\", \"ALLUSERSPROFILE=C:\\\\ProgramData\", \"COMMONPROGRAMFILES=C:\\\\Program Files\\\\Common Files\", \"COMPUTERNAME=DESKTOP-8F299D8\", \"ONEDRIVE=C:\\\\Users\\\\oscar\\\\OneDrive\", \"USERNAME=oscar\", \"COLUMNS=80\", \"IPY_INTERRUPT_EVENT=1668\", \"PROGRAMFILES(X86)=C:\\\\Program Files (x86)\", \"OPENBLAS_NUM_THREADS=1\", \"PROGRAMFILES=C:\\\\Program Files\", \"JPY_PARENT_PID=1472\", \"LOGONSERVER=\\\\\\\\DESKTOP-8F299D8\", \"ONEDRIVECONSUMER=C:\\\\Users\\\\oscar\\\\OneDrive\", \"USERPROFILE=C:\\\\Users\\\\oscar\", \"DRIVERDATA=C:\\\\Windows\\\\System32\\\\Drivers\\\\DriverData\", \"CONDA_PREFIX=C:\\\\Users\\\\oscar\\\\anaconda3\", \"PYDEVD_USE_FRAME_EVAL=NO\", \"P1=C:\\\\Users\\\\oscar\\\\AppData\\\\Roaming\\\\Microsoft\\\\Windows\\\\Start Menu\\\\Programs\\\\Python 3.11\", \"PROCESSOR_LEVEL=6\", \"SYSTEMDRIVE=C:\", \"LINES=30\", \"=C:=C:\\\\Users\\\\oscar\\\\Documents\\\\ITESO\\\\Septimo Semestre UBA\\\\Teoría de lenguaje\\\\tp_julia\", \"PROGRAMW6432=C:\\\\Program Files\", \"TEMP=C:\\\\Users\\\\oscar\\\\AppData\\\\Local\\\\Temp\", \"HOMEDRIVE=C:\", \"OPENBLAS_MAIN_FREE=1\", \"PROCESSOR_ARCHITECTURE=AMD64\"]), ProcessRunning), 12184, Sockets.TCPSocket(Base.Libc.WindowsRawSocket(0x00000000000005bc) active, 0 bytes waiting), 0x00000000000000b7, Dict{UInt64, Channel{Malt.WorkerResult}}(0x0000000000000002 => Channel{Malt.WorkerResult}(1), 0x000000000000000c => Channel{Malt.WorkerResult}(1), 0x00000000000000b7 => Channel{Malt.WorkerResult}(1), 0x000000000000009f => Channel{Malt.WorkerResult}(1)))\n"
     ]
    },
    {
     "name": "stdout",
     "output_type": "stream",
     "text": [
      "Cell interrupted!\n"
     ]
    },
    {
     "name": "stderr",
     "output_type": "stream",
     "text": [
      "\u001b[32m\u001b[1m    Updating\u001b[22m\u001b[39m `C:\\Users\\oscar\\AppData\\Local\\Temp\\jl_UKyGKI\\Project.toml`\n",
      "  \u001b[90m[2913bbd2] \u001b[39m\u001b[91m- StatsBase v0.34.2\u001b[39m\n",
      "\u001b[32m\u001b[1m  No Changes\u001b[22m\u001b[39m to `C:\\Users\\oscar\\AppData\\Local\\Temp\\jl_UKyGKI\\Manifest.toml`\n",
      "\u001b[32m\u001b[1m    Updating\u001b[22m\u001b[39m `C:\\Users\\oscar\\AppData\\Local\\Temp\\jl_UKyGKI\\Project.toml`\n",
      "  \u001b[90m[aaaa29a8] \u001b[39m\u001b[91m- Clustering v0.15.5\u001b[39m\n",
      "\u001b[32m\u001b[1m    Updating\u001b[22m\u001b[39m `C:\\Users\\oscar\\AppData\\Local\\Temp\\jl_UKyGKI\\Manifest.toml`\n",
      "  \u001b[90m[aaaa29a8] \u001b[39m\u001b[91m- Clustering v0.15.5\u001b[39m\n",
      "  \u001b[90m[b4f34e82] \u001b[39m\u001b[91m- Distances v0.10.11\u001b[39m\n",
      "  \u001b[90m[b8a86587] \u001b[39m\u001b[91m- NearestNeighbors v0.4.15\u001b[39m\n",
      "  \u001b[90m[90137ffa] \u001b[39m\u001b[91m- StaticArrays v1.8.0\u001b[39m\n",
      "  \u001b[90m[1e83bf80] \u001b[39m\u001b[91m- StaticArraysCore v1.4.2\u001b[39m\n",
      "\u001b[32m\u001b[1m    Updating\u001b[22m\u001b[39m `C:\\Users\\oscar\\AppData\\Local\\Temp\\jl_UKyGKI\\Project.toml`\n",
      "  \u001b[90m[f0f68f2c] \u001b[39m\u001b[91m- PlotlyJS v0.18.11\u001b[39m\n",
      "\u001b[32m\u001b[1m    Updating\u001b[22m\u001b[39m `C:\\Users\\oscar\\AppData\\Local\\Temp\\jl_UKyGKI\\Manifest.toml`\n",
      "  \u001b[90m[bf4720bc] \u001b[39m\u001b[91m- AssetRegistry v0.1.0\u001b[39m\n",
      "  \u001b[90m[ad839575] \u001b[39m\u001b[91m- Blink v0.12.8\u001b[39m\n",
      "  \u001b[90m[de31a74c] \u001b[39m\u001b[91m- FunctionalCollections v0.5.0\u001b[39m\n",
      "  \u001b[90m[9fb69e20] \u001b[39m\u001b[91m- Hiccup v0.2.2\u001b[39m\n",
      "  \u001b[90m[97c1335a] \u001b[39m\u001b[91m- JSExpr v0.5.4\u001b[39m\n",
      "  \u001b[90m[50d2b5c4] \u001b[39m\u001b[91m- Lazy v0.15.1\u001b[39m\n",
      "  \u001b[90m[ffc61752] \u001b[39m\u001b[91m- Mustache v1.0.19\u001b[39m\n",
      "  \u001b[90m[a975b10e] \u001b[39m\u001b[91m- Mux v1.0.1\u001b[39m\n",
      "  \u001b[90m[510215fc] \u001b[39m\u001b[91m- Observables v0.5.5\u001b[39m\n",
      "  \u001b[90m[d96e819e] \u001b[39m\u001b[91m- Parameters v0.12.3\u001b[39m\n",
      "  \u001b[90m[fa939f87] \u001b[39m\u001b[91m- Pidfile v1.3.0\u001b[39m\n",
      "  \u001b[90m[a03496cd] \u001b[39m\u001b[91m- PlotlyBase v0.8.19\u001b[39m\n",
      "  \u001b[90m[f0f68f2c] \u001b[39m\u001b[91m- PlotlyJS v0.18.11\u001b[39m\n",
      "  \u001b[90m[3a884ed6] \u001b[39m\u001b[91m- UnPack v1.0.2\u001b[39m\n",
      "  \u001b[90m[0f1e0344] \u001b[39m\u001b[91m- WebIO v0.8.21\u001b[39m\n",
      "  \u001b[90m[104b5d7c] \u001b[39m\u001b[91m- WebSockets v1.6.0\u001b[39m\n",
      "  \u001b[90m[cc8bc4a8] \u001b[39m\u001b[91m- Widgets v0.6.6\u001b[39m\n",
      "  \u001b[90m[f7e6163d] \u001b[39m\u001b[91m- Kaleido_jll v0.2.1+0\u001b[39m\n",
      "  \u001b[90m[8ba89e20] \u001b[39m\u001b[91m- Distributed\u001b[39m\n"
     ]
    },
    {
     "name": "stdout",
     "output_type": "stream",
     "text": [
      "\n",
      "\n"
     ]
    },
    {
     "name": "stderr",
     "output_type": "stream",
     "text": [
      "\u001b[36m\u001b[1m┌ \u001b[22m\u001b[39m\u001b[36m\u001b[1mInfo: \u001b[22m\u001b[39m\n",
      "\u001b[36m\u001b[1m│ \u001b[22m\u001b[39mClosing Pluto... Restart Julia for a fresh session. \n",
      "\u001b[36m\u001b[1m│ \u001b[22m\u001b[39m\n",
      "\u001b[36m\u001b[1m│ \u001b[22m\u001b[39mHave a nice day! 🎈\n",
      "\u001b[36m\u001b[1m└ \u001b[22m\u001b[39m\n"
     ]
    }
   ],
   "source": [
    "import Pluto\n",
    "Pluto.run()"
   ]
  },
  {
   "cell_type": "markdown",
   "id": "15258481",
   "metadata": {},
   "source": [
    "### `Bibliografía `"
   ]
  },
  {
   "cell_type": "markdown",
   "id": "477656dd",
   "metadata": {},
   "source": [
    "* https://docs.julialang.org/en/v1/\n",
    "\n",
    "* https://help.juliahub.com/juliahub/stable/\n",
    "\n",
    "* https://introajulia.org/#_el_primer_programa\n",
    "\n",
    "* https://chifi.dev/weird-things-you-can-do-in-julia-3f10cacb8ef4"
   ]
  },
  {
   "cell_type": "markdown",
   "id": "9528130e",
   "metadata": {},
   "source": [
    "<script>\n",
    "  $(document).ready(function(){\n",
    "    $('div.prompt').hide();\n",
    "    $('div.back-to-top').hide();\n",
    "    $('nav#menubar').hide();\n",
    "    $('.breadcrumb').hide();\n",
    "    $('.hidden-print').hide();\n",
    "  });\n",
    "</script>\n",
    "\n",
    "<footer id=\"attribution\" style=\"float:right; color:#808080; background:#fff;\">\n",
    "Created with Julia by Oscar Uriel Alvarado Garnica.\n",
    "</footer>"
   ]
  }
 ],
 "metadata": {
  "kernelspec": {
   "display_name": "Julia 1.9.3",
   "language": "julia",
   "name": "julia-1.9"
  },
  "language_info": {
   "file_extension": ".jl",
   "mimetype": "application/julia",
   "name": "julia",
   "version": "1.9.3"
  }
 },
 "nbformat": 4,
 "nbformat_minor": 5
}
